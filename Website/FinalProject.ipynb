{
  "cells": [
    {
      "cell_type": "code",
      "execution_count": 118,
      "metadata": {
        "collapsed": true,
        "id": "G25nrztVul7B"
      },
      "outputs": [],
      "source": [
        "# Imports & setup\n",
        "import numpy as np\n",
        "import pandas as pd\n",
        "from sklearn.impute import SimpleImputer\n",
        "from sklearn.model_selection import train_test_split\n",
        "from sklearn.linear_model import LinearRegression\n",
        "from sklearn.metrics import mean_squared_error\n",
        "from sklearn.linear_model import LinearRegression, Lasso, Ridge\n",
        "from sklearn.neighbors import KNeighborsRegressor\n",
        "from sklearn.ensemble import RandomForestRegressor\n",
        "# from tkinter import Tk\n",
        "# from tkinter.filedialog import askopenfilename\n"
      ]
    },
    {
      "cell_type": "code",
      "execution_count": 119,
      "metadata": {
        "id": "CV4T_SA3om05"
      },
      "outputs": [],
      "source": [
        "\n",
        "# This allows to choose the file to open\n",
        "# Tk().withdraw()  # to hide the main window\n",
        "# filepath = askopenfilename()  # show an \"Open\" dialog box and return the path to the selected file\n",
        "\n",
        "# feel free to change this to filepath to choose specific file path on local machine\n",
        "data = pd.read_csv(\"E:\\ECS-171-Project\\Life Expectancy Data.csv\")"
      ]
    },
    {
      "cell_type": "code",
      "execution_count": 120,
      "metadata": {
        "id": "VB5L6WQau_be"
      },
      "outputs": [],
      "source": [
        "# Select columns\n",
        "selected_cols = [\"Alcohol\", \"Adult Mortality\", \"Hepatitis B\", \"Measles \", \" BMI \",\n",
        "                 \"Polio\", \"Total expenditure\", \"Diphtheria \", \" HIV/AIDS\", \"GDP\",\n",
        "                 \" thinness  1-19 years\", \"Schooling\", \"infant deaths\"]\n",
        "selected_data = data[selected_cols]\n",
        "selected_data.columns = [\"Alcohol\", \"Adult Mortality\", \"Hepatitis B\", \"Measles\", \"BMI\",\n",
        "                         \"Polio\", \"Total Expenditure\", \"Diphtheria\", \"HIV/AIDS\", \"GDP\",\n",
        "                         \"Thinness 1-19 Years\", \"Schooling\", \"Infant Deaths\"]\n",
        "\n",
        "target = data[\"Life expectancy \"]\n",
        "target.name = \"Life Expectancy\""
      ]
    },
    {
      "cell_type": "code",
      "execution_count": 121,
      "metadata": {
        "id": "DKGH0hePiJX8"
      },
      "outputs": [],
      "source": [
        "# Transform selected columns\n",
        "selected_data = selected_data.apply({\"Adult Mortality\": np.sqrt,\n",
        "                                     \"Alcohol\": np.sqrt,\n",
        "                                     \"Hepatitis B\": lambda x: np.log(100 - x),\n",
        "                                     \"Measles\": lambda x: np.log(x + 0.1),\n",
        "                                     \"BMI\": lambda x: np.log(100 - x),\n",
        "                                     \"Polio\": lambda x: np.log(100 - x),\n",
        "                                     \"Total Expenditure\": lambda x: x,\n",
        "                                     \"Diphtheria\": lambda x: np.log(100 - x),\n",
        "                                     \"HIV/AIDS\": np.log,\n",
        "                                     \"GDP\": np.log,\n",
        "                                     \"Thinness 1-19 Years\": np.log,\n",
        "                                     \"Schooling\": lambda x: x,\n",
        "                                     \"Infant Deaths\": lambda x: x})"
      ]
    },
    {
      "cell_type": "code",
      "execution_count": 122,
      "metadata": {
        "id": "NWbOXAjq8QDL"
      },
      "outputs": [],
      "source": [
        "# Remove rows with outliers or where target is missing\n",
        "def find_outliers(data):\n",
        "  q1 = np.nanpercentile(data, 25)\n",
        "  q3 = np.nanpercentile(data, 75)\n",
        "  iqr = q3 - q1\n",
        "  min_threshold = q1 - 1.5*iqr\n",
        "  max_threshold = q3 + 1.5*iqr\n",
        "  return list( np.where((data < min_threshold) | (data > max_threshold))[0] )\n",
        "\n",
        "drop_rows = list( np.where(target.isna())[0] )\n",
        "for name, col in selected_data.items():\n",
        "  drop_rows += find_outliers(col)\n",
        "\n",
        "data_drop_rows = selected_data.drop(index=drop_rows).reset_index(drop=True)\n",
        "clean_target = target.drop(index=drop_rows).reset_index(drop=True)"
      ]
    },
    {
      "cell_type": "code",
      "execution_count": 123,
      "metadata": {
        "id": "iGpibY3wRzvY"
      },
      "outputs": [],
      "source": [
        "# Replace missing values with mean\n",
        "imputer = SimpleImputer(strategy=\"mean\").set_output(transform=\"pandas\")\n",
        "clean_data = imputer.fit_transform(data_drop_rows)"
      ]
    },
    {
      "cell_type": "code",
      "execution_count": 124,
      "metadata": {
        "id": "h6WglVWkSetp"
      },
      "outputs": [],
      "source": [
        "# Perform 80/20 train/test split\n",
        "X_train, X_test, y_train, y_test = train_test_split(clean_data, clean_target, train_size=0.8, random_state=42)"
      ]
    },
    {
      "cell_type": "code",
      "execution_count": 125,
      "metadata": {
        "colab": {
          "base_uri": "https://localhost:8080/"
        },
        "id": "ZttRzDq3OkIB",
        "outputId": "9e218086-7549-46d4-c6ad-607c565e49da"
      },
      "outputs": [
        {
          "data": {
            "text/plain": [
              "14.465076776536385"
            ]
          },
          "execution_count": 125,
          "metadata": {},
          "output_type": "execute_result"
        }
      ],
      "source": [
        "# Fit and evaluate model\n",
        "model = LinearRegression()\n",
        "model.fit(X_train, y_train)\n",
        "y_pred = model.predict(X_test)\n",
        "mean_squared_error(y_test, y_pred)"
      ]
    },
    {
      "cell_type": "code",
      "execution_count": 126,
      "metadata": {},
      "outputs": [
        {
          "name": "stdout",
          "output_type": "stream",
          "text": [
            "R-squared value: 0.8090454357903173\n"
          ]
        }
      ],
      "source": [
        "r_squared = model.score(X_test, y_test)\n",
        "print(\"R-squared value:\", r_squared)\n"
      ]
    },
    {
      "cell_type": "markdown",
      "metadata": {},
      "source": [
        "Cross validation here to validate the result of the model. Here, we used random-fold validation which will shuffle the data repeatedly do random train/splits on the data."
      ]
    },
    {
      "cell_type": "code",
      "execution_count": 127,
      "metadata": {},
      "outputs": [
        {
          "name": "stdout",
          "output_type": "stream",
          "text": [
            "[0.81862037 0.80799447 0.80205991 0.80583582 0.81971378 0.81767745\n",
            " 0.83528402 0.80789415 0.79484749 0.79713436]\n"
          ]
        }
      ],
      "source": [
        "from sklearn.model_selection import ShuffleSplit\n",
        "kfold = ShuffleSplit(n_splits=10, test_size=0.2, random_state=0)\n",
        "result_cross_val = cross_val_score(model, clean_data, clean_target, cv=kfold)\n",
        "print(result_cross_val)"
      ]
    },
    {
      "cell_type": "code",
      "execution_count": 128,
      "metadata": {},
      "outputs": [
        {
          "data": {
            "text/plain": [
              "0.8107061820959955"
            ]
          },
          "execution_count": 128,
          "metadata": {},
          "output_type": "execute_result"
        }
      ],
      "source": [
        "# Mean performance\n",
        "result_cross_val.mean()\n",
        "\n"
      ]
    },
    {
      "cell_type": "markdown",
      "metadata": {},
      "source": [
        "result is extremely close to model score"
      ]
    },
    {
      "cell_type": "markdown",
      "metadata": {},
      "source": [
        "## Ridge vs Lasso regularization"
      ]
    },
    {
      "cell_type": "code",
      "execution_count": 129,
      "metadata": {},
      "outputs": [
        {
          "name": "stdout",
          "output_type": "stream",
          "text": [
            "Best alpha value:  10.0\n",
            "RidgeCV R-squared value:  0.8089215297075956\n",
            "RidgeCV Mean squared error:  14.474462836550549\n"
          ]
        }
      ],
      "source": [
        "# Initialize RidgeCV w/ range of alpha values\n",
        "alphas = [0.01, 0.1, 0.4, 1, 10, 100]\n",
        "\n",
        "# Fit model\n",
        "ridge_cv = RidgeCV(alphas=alphas, cv = 5) # 5-fold cross validation\n",
        "ridge_cv.fit(X_train, y_train)\n",
        "\n",
        "# Get the best alpha value\n",
        "best_alpha = ridge_cv.alpha_\n",
        "print(\"Best alpha value: \", best_alpha)\n",
        "\n",
        "\n",
        "ridge_cv_score = ridge_cv.score(X_test, y_test)\n",
        "print(\"RidgeCV R-squared value: \", ridge_cv_score)\n",
        "\n",
        "y_pred_2 = ridge_cv.predict(X_test)\n",
        "\n",
        "# Mean squared error\n",
        "mse_ridge = mean_squared_error(y_test, y_pred_2)\n",
        "print(\"RidgeCV Mean squared error: \", mse_ridge)\n",
        "\n"
      ]
    },
    {
      "cell_type": "code",
      "execution_count": 130,
      "metadata": {},
      "outputs": [
        {
          "name": "stdout",
          "output_type": "stream",
          "text": [
            "Best alpha value:  0.001\n",
            "LassoCV R-squared value:  0.8090342015398175\n",
            "LassoCV Mean squared error:  14.46592778681037\n"
          ]
        }
      ],
      "source": [
        "alphas = [0.001, 0.05, 0.1, 1.0, 0.009]\n",
        "lasso_cv = LassoCV(alphas=alphas, cv=5)\n",
        "lasso_cv.fit(X_train, y_train)\n",
        "\n",
        "# Get the best alpha value\n",
        "best_alpha = lasso_cv.alpha_\n",
        "print(\"Best alpha value: \", best_alpha)\n",
        "\n",
        "ridge_cv_score = lasso_cv.score(X_test, y_test)\n",
        "print(\"LassoCV R-squared value: \", ridge_cv_score)\n",
        "\n",
        "y_pred_3 = lasso_cv.predict(X_test)\n",
        "\n",
        "# Mean squared error\n",
        "mse_lasso = mean_squared_error(y_test, y_pred_3)    \n",
        "print(\"LassoCV Mean squared error: \", mse_lasso)"
      ]
    },
    {
      "cell_type": "markdown",
      "metadata": {},
      "source": [
        "## K-Nearest Neighboor"
      ]
    },
    {
      "cell_type": "code",
      "execution_count": 131,
      "metadata": {},
      "outputs": [
        {
          "name": "stdout",
          "output_type": "stream",
          "text": [
            "KNN R-squared value:  0.8797436587460512\n",
            "KNN Mean squared error:  9.109586965376781\n"
          ]
        }
      ],
      "source": [
        "# Initialize KNN model\n",
        "knr_model = KNeighborsRegressor()\n",
        "\n",
        "# Fit model\n",
        "knr_model.fit(X_train, y_train)\n",
        "\n",
        "knr_model_score = knr_model.score(X_test, y_test)\n",
        "print(\"KNN R-squared value: \", knr_model_score)\n",
        "\n",
        "y_pred_4 = knr_model.predict(X_test)\n",
        "\n",
        "# Calculate mean squared error\n",
        "mse_knr = mean_squared_error(y_test, y_pred_4)\n",
        "print(\"KNN Mean squared error: \", mse_knr)"
      ]
    },
    {
      "cell_type": "markdown",
      "metadata": {},
      "source": [
        "## Random Forest "
      ]
    },
    {
      "cell_type": "code",
      "execution_count": 133,
      "metadata": {},
      "outputs": [
        {
          "name": "stdout",
          "output_type": "stream",
          "text": [
            "RandomForestRegressor R-squared value:  0.9514165802748376\n",
            "RandomForestRegressor Mean squared error:  3.680262366598787\n"
          ]
        }
      ],
      "source": [
        "RandomForestRegressor_model = RandomForestRegressor()\n",
        "RandomForestRegressor_model.fit(X_train, y_train)\n",
        "RandomForestRegressor_model_score = RandomForestRegressor_model.score(X_test, y_test)\n",
        "print(\"RandomForestRegressor R-squared value: \", RandomForestRegressor_model_score)\n",
        "\n",
        "y_pred_5 = RandomForestRegressor_model.predict(X_test)\n",
        "mse_RandomForestRegressor = mean_squared_error(y_test, y_pred_5)\n",
        "print(\"RandomForestRegressor Mean squared error: \", mse_RandomForestRegressor)"
      ]
    }
  ],
  "metadata": {
    "colab": {
      "provenance": []
    },
    "kernelspec": {
      "display_name": "Python 3",
      "name": "python3"
    },
    "language_info": {
      "codemirror_mode": {
        "name": "ipython",
        "version": 3
      },
      "file_extension": ".py",
      "mimetype": "text/x-python",
      "name": "python",
      "nbconvert_exporter": "python",
      "pygments_lexer": "ipython3",
      "version": "3.11.7"
    }
  },
  "nbformat": 4,
  "nbformat_minor": 0
}
